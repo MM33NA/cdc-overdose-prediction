{
 "cells": [
  {
   "cell_type": "code",
   "execution_count": 1,
   "id": "e981be85-596f-407f-b9eb-9b4da2b808f8",
   "metadata": {},
   "outputs": [],
   "source": [
    "import pandas as pd\n",
    "import numpy as np"
   ]
  },
  {
   "cell_type": "code",
   "execution_count": 4,
   "id": "cc02f7c8-b02a-4c15-85cf-0cd97e294250",
   "metadata": {},
   "outputs": [],
   "source": [
    "#1. Load data\n",
    "df = pd.read_csv(\"C:/Users/mmaha/projects/cdc-overdose-prediction/data/Multiple Cause of Death, 2018-2023, Single Race.csv\")"
   ]
  },
  {
   "cell_type": "code",
   "execution_count": 6,
   "id": "f989c280-c836-49c4-b6c9-ff822ed34e24",
   "metadata": {},
   "outputs": [
    {
     "name": "stdout",
     "output_type": "stream",
     "text": [
      "(7054, 10)\n"
     ]
    }
   ],
   "source": [
    "# 2. Inspect structure\n",
    "print(df.shape)"
   ]
  },
  {
   "cell_type": "code",
   "execution_count": 7,
   "id": "a918d62b-2841-431e-a878-b64eeddea034",
   "metadata": {},
   "outputs": [
    {
     "name": "stdout",
     "output_type": "stream",
     "text": [
      "Index(['Notes', 'State', 'State Code', 'County', 'County Code', 'Year',\n",
      "       'Year Code', 'Deaths', 'Population', 'Crude Rate'],\n",
      "      dtype='object')\n"
     ]
    }
   ],
   "source": [
    "print(df.columns)"
   ]
  },
  {
   "cell_type": "code",
   "execution_count": 9,
   "id": "f46c3f90-df02-4bfd-a591-c2e2ae7e7862",
   "metadata": {},
   "outputs": [
    {
     "data": {
      "text/html": [
       "<div>\n",
       "<style scoped>\n",
       "    .dataframe tbody tr th:only-of-type {\n",
       "        vertical-align: middle;\n",
       "    }\n",
       "\n",
       "    .dataframe tbody tr th {\n",
       "        vertical-align: top;\n",
       "    }\n",
       "\n",
       "    .dataframe thead th {\n",
       "        text-align: right;\n",
       "    }\n",
       "</style>\n",
       "<table border=\"1\" class=\"dataframe\">\n",
       "  <thead>\n",
       "    <tr style=\"text-align: right;\">\n",
       "      <th></th>\n",
       "      <th>Notes</th>\n",
       "      <th>State</th>\n",
       "      <th>State Code</th>\n",
       "      <th>County</th>\n",
       "      <th>County Code</th>\n",
       "      <th>Year</th>\n",
       "      <th>Year Code</th>\n",
       "      <th>Deaths</th>\n",
       "      <th>Population</th>\n",
       "      <th>Crude Rate</th>\n",
       "    </tr>\n",
       "  </thead>\n",
       "  <tbody>\n",
       "    <tr>\n",
       "      <th>0</th>\n",
       "      <td>NaN</td>\n",
       "      <td>Alabama</td>\n",
       "      <td>1.0</td>\n",
       "      <td>Baldwin County, AL</td>\n",
       "      <td>1003.0</td>\n",
       "      <td>2018.0</td>\n",
       "      <td>2018.0</td>\n",
       "      <td>28.0</td>\n",
       "      <td>218022</td>\n",
       "      <td>12.8</td>\n",
       "    </tr>\n",
       "    <tr>\n",
       "      <th>1</th>\n",
       "      <td>NaN</td>\n",
       "      <td>Alabama</td>\n",
       "      <td>1.0</td>\n",
       "      <td>Baldwin County, AL</td>\n",
       "      <td>1003.0</td>\n",
       "      <td>2019.0</td>\n",
       "      <td>2019.0</td>\n",
       "      <td>27.0</td>\n",
       "      <td>223234</td>\n",
       "      <td>12.1</td>\n",
       "    </tr>\n",
       "    <tr>\n",
       "      <th>2</th>\n",
       "      <td>NaN</td>\n",
       "      <td>Alabama</td>\n",
       "      <td>1.0</td>\n",
       "      <td>Baldwin County, AL</td>\n",
       "      <td>1003.0</td>\n",
       "      <td>2020.0</td>\n",
       "      <td>2020.0</td>\n",
       "      <td>63.0</td>\n",
       "      <td>229287</td>\n",
       "      <td>27.5</td>\n",
       "    </tr>\n",
       "    <tr>\n",
       "      <th>3</th>\n",
       "      <td>NaN</td>\n",
       "      <td>Alabama</td>\n",
       "      <td>1.0</td>\n",
       "      <td>Baldwin County, AL</td>\n",
       "      <td>1003.0</td>\n",
       "      <td>2021.0</td>\n",
       "      <td>2021.0</td>\n",
       "      <td>88.0</td>\n",
       "      <td>239294</td>\n",
       "      <td>36.8</td>\n",
       "    </tr>\n",
       "    <tr>\n",
       "      <th>4</th>\n",
       "      <td>NaN</td>\n",
       "      <td>Alabama</td>\n",
       "      <td>1.0</td>\n",
       "      <td>Baldwin County, AL</td>\n",
       "      <td>1003.0</td>\n",
       "      <td>2022.0</td>\n",
       "      <td>2022.0</td>\n",
       "      <td>75.0</td>\n",
       "      <td>246435</td>\n",
       "      <td>30.4</td>\n",
       "    </tr>\n",
       "  </tbody>\n",
       "</table>\n",
       "</div>"
      ],
      "text/plain": [
       "  Notes    State  State Code              County  County Code    Year  \\\n",
       "0   NaN  Alabama         1.0  Baldwin County, AL       1003.0  2018.0   \n",
       "1   NaN  Alabama         1.0  Baldwin County, AL       1003.0  2019.0   \n",
       "2   NaN  Alabama         1.0  Baldwin County, AL       1003.0  2020.0   \n",
       "3   NaN  Alabama         1.0  Baldwin County, AL       1003.0  2021.0   \n",
       "4   NaN  Alabama         1.0  Baldwin County, AL       1003.0  2022.0   \n",
       "\n",
       "   Year Code  Deaths Population Crude Rate  \n",
       "0     2018.0    28.0     218022       12.8  \n",
       "1     2019.0    27.0     223234       12.1  \n",
       "2     2020.0    63.0     229287       27.5  \n",
       "3     2021.0    88.0     239294       36.8  \n",
       "4     2022.0    75.0     246435       30.4  "
      ]
     },
     "execution_count": 9,
     "metadata": {},
     "output_type": "execute_result"
    }
   ],
   "source": [
    "df.head()"
   ]
  },
  {
   "cell_type": "code",
   "execution_count": 10,
   "id": "bef1036d-da05-4e8f-92a3-6cb670b36942",
   "metadata": {},
   "outputs": [],
   "source": [
    "# 3️ Clean column names\n",
    "df.columns = [c.strip().replace(\" \", \"_\").lower() for c in df.columns]"
   ]
  },
  {
   "cell_type": "code",
   "execution_count": 13,
   "id": "98cd73d5-ff54-410d-a7f6-2ea0146fd114",
   "metadata": {},
   "outputs": [],
   "source": [
    "# 4. Convert numeric fields\n",
    "for col in [\"deaths\", \"population\", \"crude_rate\"]:\n",
    "    if col in df.columns:\n",
    "        df[col] = pd.to_numeric(df[col], errors=\"coerce\")"
   ]
  },
  {
   "cell_type": "code",
   "execution_count": 14,
   "id": "bf6a804b-9885-4616-b6f8-4cdf64fb11d8",
   "metadata": {},
   "outputs": [],
   "source": [
    "# 5. Remove \"All Counties\" or total\n",
    "if \"county\" in df.columns:\n",
    "    df = df[df[\"county\"].notna()]\n",
    "    df = df[~df[\"county\"].str.contains(\"All Counties\", case=False, na=False)]"
   ]
  },
  {
   "cell_type": "code",
   "execution_count": 15,
   "id": "0bc84a07-47d9-4939-85fd-2ce921fa40c2",
   "metadata": {},
   "outputs": [],
   "source": [
    "# 7. Calculate crude death rate\n",
    "df[\"death_rate_per_100k\"] = (df[\"deaths\"] / df[\"population\"]) * 100000"
   ]
  },
  {
   "cell_type": "code",
   "execution_count": 19,
   "id": "d2804cd2-48d2-41fa-baf5-d02e65ce5dce",
   "metadata": {},
   "outputs": [],
   "source": [
    "# 8. Drop incomplete rows\n",
    "df = df.dropna(subset=[\"year\", \"deaths\", \"population\"])"
   ]
  },
  {
   "cell_type": "code",
   "execution_count": 21,
   "id": "c673f2d3-dbfd-40f0-8666-7783e2b48dd6",
   "metadata": {},
   "outputs": [],
   "source": [
    "# 9. Save cleaned file\n",
    "df.to_csv(\"C:/Users/mmaha/projects/cdc-overdose-prediction/data/CDC_Overdose_Cleaned.csv\", index = False)"
   ]
  },
  {
   "cell_type": "code",
   "execution_count": 22,
   "id": "1aa8b96f-e0e6-41dd-8140-85ee7e84295e",
   "metadata": {},
   "outputs": [
    {
     "name": "stdout",
     "output_type": "stream",
     "text": [
      "Cleaned dataset saved at data/CDC_Overdose_Cleaned.csv\n"
     ]
    },
    {
     "data": {
      "text/html": [
       "<div>\n",
       "<style scoped>\n",
       "    .dataframe tbody tr th:only-of-type {\n",
       "        vertical-align: middle;\n",
       "    }\n",
       "\n",
       "    .dataframe tbody tr th {\n",
       "        vertical-align: top;\n",
       "    }\n",
       "\n",
       "    .dataframe thead th {\n",
       "        text-align: right;\n",
       "    }\n",
       "</style>\n",
       "<table border=\"1\" class=\"dataframe\">\n",
       "  <thead>\n",
       "    <tr style=\"text-align: right;\">\n",
       "      <th></th>\n",
       "      <th>notes</th>\n",
       "      <th>state</th>\n",
       "      <th>state_code</th>\n",
       "      <th>county</th>\n",
       "      <th>county_code</th>\n",
       "      <th>year</th>\n",
       "      <th>year_code</th>\n",
       "      <th>deaths</th>\n",
       "      <th>population</th>\n",
       "      <th>crude_rate</th>\n",
       "      <th>death_rate_per_100k</th>\n",
       "    </tr>\n",
       "  </thead>\n",
       "  <tbody>\n",
       "    <tr>\n",
       "      <th>0</th>\n",
       "      <td>NaN</td>\n",
       "      <td>Alabama</td>\n",
       "      <td>1.0</td>\n",
       "      <td>Baldwin County, AL</td>\n",
       "      <td>1003.0</td>\n",
       "      <td>2018.0</td>\n",
       "      <td>2018.0</td>\n",
       "      <td>28.0</td>\n",
       "      <td>218022.0</td>\n",
       "      <td>12.8</td>\n",
       "      <td>12.842741</td>\n",
       "    </tr>\n",
       "    <tr>\n",
       "      <th>1</th>\n",
       "      <td>NaN</td>\n",
       "      <td>Alabama</td>\n",
       "      <td>1.0</td>\n",
       "      <td>Baldwin County, AL</td>\n",
       "      <td>1003.0</td>\n",
       "      <td>2019.0</td>\n",
       "      <td>2019.0</td>\n",
       "      <td>27.0</td>\n",
       "      <td>223234.0</td>\n",
       "      <td>12.1</td>\n",
       "      <td>12.094932</td>\n",
       "    </tr>\n",
       "    <tr>\n",
       "      <th>2</th>\n",
       "      <td>NaN</td>\n",
       "      <td>Alabama</td>\n",
       "      <td>1.0</td>\n",
       "      <td>Baldwin County, AL</td>\n",
       "      <td>1003.0</td>\n",
       "      <td>2020.0</td>\n",
       "      <td>2020.0</td>\n",
       "      <td>63.0</td>\n",
       "      <td>229287.0</td>\n",
       "      <td>27.5</td>\n",
       "      <td>27.476481</td>\n",
       "    </tr>\n",
       "    <tr>\n",
       "      <th>3</th>\n",
       "      <td>NaN</td>\n",
       "      <td>Alabama</td>\n",
       "      <td>1.0</td>\n",
       "      <td>Baldwin County, AL</td>\n",
       "      <td>1003.0</td>\n",
       "      <td>2021.0</td>\n",
       "      <td>2021.0</td>\n",
       "      <td>88.0</td>\n",
       "      <td>239294.0</td>\n",
       "      <td>36.8</td>\n",
       "      <td>36.774846</td>\n",
       "    </tr>\n",
       "    <tr>\n",
       "      <th>4</th>\n",
       "      <td>NaN</td>\n",
       "      <td>Alabama</td>\n",
       "      <td>1.0</td>\n",
       "      <td>Baldwin County, AL</td>\n",
       "      <td>1003.0</td>\n",
       "      <td>2022.0</td>\n",
       "      <td>2022.0</td>\n",
       "      <td>75.0</td>\n",
       "      <td>246435.0</td>\n",
       "      <td>30.4</td>\n",
       "      <td>30.433989</td>\n",
       "    </tr>\n",
       "  </tbody>\n",
       "</table>\n",
       "</div>"
      ],
      "text/plain": [
       "  notes    state  state_code              county  county_code    year  \\\n",
       "0   NaN  Alabama         1.0  Baldwin County, AL       1003.0  2018.0   \n",
       "1   NaN  Alabama         1.0  Baldwin County, AL       1003.0  2019.0   \n",
       "2   NaN  Alabama         1.0  Baldwin County, AL       1003.0  2020.0   \n",
       "3   NaN  Alabama         1.0  Baldwin County, AL       1003.0  2021.0   \n",
       "4   NaN  Alabama         1.0  Baldwin County, AL       1003.0  2022.0   \n",
       "\n",
       "   year_code  deaths  population  crude_rate  death_rate_per_100k  \n",
       "0     2018.0    28.0    218022.0        12.8            12.842741  \n",
       "1     2019.0    27.0    223234.0        12.1            12.094932  \n",
       "2     2020.0    63.0    229287.0        27.5            27.476481  \n",
       "3     2021.0    88.0    239294.0        36.8            36.774846  \n",
       "4     2022.0    75.0    246435.0        30.4            30.433989  "
      ]
     },
     "execution_count": 22,
     "metadata": {},
     "output_type": "execute_result"
    }
   ],
   "source": [
    "print (\"Cleaned dataset saved at data/CDC_Overdose_Cleaned.csv\")\n",
    "df.head()"
   ]
  },
  {
   "cell_type": "code",
   "execution_count": null,
   "id": "c6159643-6f8c-4878-88e2-860b138bcdf5",
   "metadata": {},
   "outputs": [],
   "source": []
  }
 ],
 "metadata": {
  "kernelspec": {
   "display_name": "Python 3 (ipykernel)",
   "language": "python",
   "name": "python3"
  },
  "language_info": {
   "codemirror_mode": {
    "name": "ipython",
    "version": 3
   },
   "file_extension": ".py",
   "mimetype": "text/x-python",
   "name": "python",
   "nbconvert_exporter": "python",
   "pygments_lexer": "ipython3",
   "version": "3.12.7"
  }
 },
 "nbformat": 4,
 "nbformat_minor": 5
}
